{
  "cells": [
    {
      "cell_type": "markdown",
      "metadata": {
        "id": "QGUBmRT5E8Wk"
      },
      "source": [
        "### Types of Values in Dataset\n",
        "- 95% to 98% - Normal Values\n",
        "-  1% to 3%  - Null Values\n",
        "-  1% to 2%  - Outlying Values\n",
        "---"
      ]
    },
    {
      "cell_type": "markdown",
      "metadata": {
        "id": "u149TmPZOgIm"
      },
      "source": [
        "### Importing the Required Modules"
      ]
    },
    {
      "cell_type": "code",
      "execution_count": 1,
      "metadata": {
        "id": "S0ZjakMaN15K"
      },
      "outputs": [],
      "source": [
        "from sklearn import datasets # Sci-Kit Learn Module\n",
        "import pandas as pd\n",
        "import numpy as np"
      ]
    },
    {
      "cell_type": "markdown",
      "metadata": {
        "id": "zLkGp6a3kp29"
      },
      "source": [
        "---"
      ]
    },
    {
      "cell_type": "markdown",
      "metadata": {
        "id": "m3i3e-W0kwpa"
      },
      "source": [
        "### Mounting Drive to Access the <b>titanic.csv</b> File"
      ]
    },
    {
      "cell_type": "code",
      "execution_count": 5,
      "metadata": {
        "colab": {
          "base_uri": "https://localhost:8080/"
        },
        "id": "dru-bQFRk8KC",
        "outputId": "47e9abe4-47ce-4046-b495-d4f8a23eab61"
      },
      "outputs": [
        {
          "name": "stdout",
          "output_type": "stream",
          "text": [
            "Mounted at /content/drive\n"
          ]
        }
      ],
      "source": [
        "from google.colab import drive\n",
        "drive.mount('/content/drive')"
      ]
    },
    {
      "cell_type": "markdown",
      "metadata": {
        "id": "jCo6e8mBkuZq"
      },
      "source": [
        "---"
      ]
    },
    {
      "cell_type": "markdown",
      "metadata": {
        "id": "PFLJ-JdkbeVS"
      },
      "source": [
        "### Importing Dataset"
      ]
    },
    {
      "cell_type": "code",
      "execution_count": 2,
      "metadata": {
        "id": "hCOD7jDuF8ig"
      },
      "outputs": [],
      "source": [
        "# # Method 1 - Using Sci-Kit Learn Dataset\n",
        "# data = datasets.load_boston"
      ]
    },
    {
      "cell_type": "code",
      "execution_count": 7,
      "metadata": {
        "colab": {
          "base_uri": "https://localhost:8080/"
        },
        "id": "I_FyBxt1VxMJ",
        "outputId": "edd82b71-f9e9-4db4-a221-5dd76de0f8ee"
      },
      "outputs": [
        {
          "name": "stdout",
          "output_type": "stream",
          "text": [
            "   PassengerId  Survived  Pclass  \\\n",
            "0            1         0       3   \n",
            "1            2         1       1   \n",
            "2            3         1       3   \n",
            "3            4         1       1   \n",
            "4            5         0       3   \n",
            "\n",
            "                                                Name     Sex   Age  SibSp  \\\n",
            "0                            Braund, Mr. Owen Harris    male  22.0      1   \n",
            "1  Cumings, Mrs. John Bradley (Florence Briggs Th...  female  38.0      1   \n",
            "2                             Heikkinen, Miss. Laina  female  26.0      0   \n",
            "3       Futrelle, Mrs. Jacques Heath (Lily May Peel)  female  35.0      1   \n",
            "4                           Allen, Mr. William Henry    male  35.0      0   \n",
            "\n",
            "   Parch            Ticket     Fare Cabin Embarked  \n",
            "0      0         A/5 21171   7.2500   NaN        S  \n",
            "1      0          PC 17599  71.2833   C85        C  \n",
            "2      0  STON/O2. 3101282   7.9250   NaN        S  \n",
            "3      0            113803  53.1000  C123        S  \n",
            "4      0            373450   8.0500   NaN        S  \n"
          ]
        }
      ],
      "source": [
        "# Method 2 - Using Custom Dataset (csv file)\n",
        "data = pd.read_csv('/content/drive/MyDrive/titanic.csv')\n",
        "print(data.head())"
      ]
    },
    {
      "cell_type": "markdown",
      "metadata": {
        "id": "HtC8ODGlPYUO"
      },
      "source": [
        "---\n",
        "### 1. Removing/Repalcing Null values\n",
        "\n",
        "Check the Dataset for Null values and then remove/drop them by using <b>dropna( )</b>. If there are many Null values in the dataset, then they are considered as <b>Noise</b>\n",
        "\n",
        "Then we use <b>data.describe( )</b> to get the Average (50%) value for all the Column/Columns containing Null values, (here Age) and then replace the default Null values with this Average value using <b>data.fillna( )<b>"
      ]
    },
    {
      "cell_type": "code",
      "execution_count": 8,
      "metadata": {
        "colab": {
          "base_uri": "https://localhost:8080/",
          "height": 300
        },
        "id": "OrlVZvmDOjp4",
        "outputId": "f3035ced-3d4b-4c18-87d6-4fdedce3568b"
      },
      "outputs": [
        {
          "data": {
            "text/html": [
              "\n",
              "  <div id=\"df-826cf53d-809a-43f6-864c-ade1e40ff8cc\">\n",
              "    <div class=\"colab-df-container\">\n",
              "      <div>\n",
              "<style scoped>\n",
              "    .dataframe tbody tr th:only-of-type {\n",
              "        vertical-align: middle;\n",
              "    }\n",
              "\n",
              "    .dataframe tbody tr th {\n",
              "        vertical-align: top;\n",
              "    }\n",
              "\n",
              "    .dataframe thead th {\n",
              "        text-align: right;\n",
              "    }\n",
              "</style>\n",
              "<table border=\"1\" class=\"dataframe\">\n",
              "  <thead>\n",
              "    <tr style=\"text-align: right;\">\n",
              "      <th></th>\n",
              "      <th>PassengerId</th>\n",
              "      <th>Survived</th>\n",
              "      <th>Pclass</th>\n",
              "      <th>Age</th>\n",
              "      <th>SibSp</th>\n",
              "      <th>Parch</th>\n",
              "      <th>Fare</th>\n",
              "    </tr>\n",
              "  </thead>\n",
              "  <tbody>\n",
              "    <tr>\n",
              "      <th>count</th>\n",
              "      <td>891.000000</td>\n",
              "      <td>891.000000</td>\n",
              "      <td>891.000000</td>\n",
              "      <td>714.000000</td>\n",
              "      <td>891.000000</td>\n",
              "      <td>891.000000</td>\n",
              "      <td>891.000000</td>\n",
              "    </tr>\n",
              "    <tr>\n",
              "      <th>mean</th>\n",
              "      <td>446.000000</td>\n",
              "      <td>0.383838</td>\n",
              "      <td>2.308642</td>\n",
              "      <td>29.699118</td>\n",
              "      <td>0.523008</td>\n",
              "      <td>0.381594</td>\n",
              "      <td>32.204208</td>\n",
              "    </tr>\n",
              "    <tr>\n",
              "      <th>std</th>\n",
              "      <td>257.353842</td>\n",
              "      <td>0.486592</td>\n",
              "      <td>0.836071</td>\n",
              "      <td>14.526497</td>\n",
              "      <td>1.102743</td>\n",
              "      <td>0.806057</td>\n",
              "      <td>49.693429</td>\n",
              "    </tr>\n",
              "    <tr>\n",
              "      <th>min</th>\n",
              "      <td>1.000000</td>\n",
              "      <td>0.000000</td>\n",
              "      <td>1.000000</td>\n",
              "      <td>0.420000</td>\n",
              "      <td>0.000000</td>\n",
              "      <td>0.000000</td>\n",
              "      <td>0.000000</td>\n",
              "    </tr>\n",
              "    <tr>\n",
              "      <th>25%</th>\n",
              "      <td>223.500000</td>\n",
              "      <td>0.000000</td>\n",
              "      <td>2.000000</td>\n",
              "      <td>20.125000</td>\n",
              "      <td>0.000000</td>\n",
              "      <td>0.000000</td>\n",
              "      <td>7.910400</td>\n",
              "    </tr>\n",
              "    <tr>\n",
              "      <th>50%</th>\n",
              "      <td>446.000000</td>\n",
              "      <td>0.000000</td>\n",
              "      <td>3.000000</td>\n",
              "      <td>28.000000</td>\n",
              "      <td>0.000000</td>\n",
              "      <td>0.000000</td>\n",
              "      <td>14.454200</td>\n",
              "    </tr>\n",
              "    <tr>\n",
              "      <th>75%</th>\n",
              "      <td>668.500000</td>\n",
              "      <td>1.000000</td>\n",
              "      <td>3.000000</td>\n",
              "      <td>38.000000</td>\n",
              "      <td>1.000000</td>\n",
              "      <td>0.000000</td>\n",
              "      <td>31.000000</td>\n",
              "    </tr>\n",
              "    <tr>\n",
              "      <th>max</th>\n",
              "      <td>891.000000</td>\n",
              "      <td>1.000000</td>\n",
              "      <td>3.000000</td>\n",
              "      <td>80.000000</td>\n",
              "      <td>8.000000</td>\n",
              "      <td>6.000000</td>\n",
              "      <td>512.329200</td>\n",
              "    </tr>\n",
              "  </tbody>\n",
              "</table>\n",
              "</div>\n",
              "      <button class=\"colab-df-convert\" onclick=\"convertToInteractive('df-826cf53d-809a-43f6-864c-ade1e40ff8cc')\"\n",
              "              title=\"Convert this dataframe to an interactive table.\"\n",
              "              style=\"display:none;\">\n",
              "        \n",
              "  <svg xmlns=\"http://www.w3.org/2000/svg\" height=\"24px\"viewBox=\"0 0 24 24\"\n",
              "       width=\"24px\">\n",
              "    <path d=\"M0 0h24v24H0V0z\" fill=\"none\"/>\n",
              "    <path d=\"M18.56 5.44l.94 2.06.94-2.06 2.06-.94-2.06-.94-.94-2.06-.94 2.06-2.06.94zm-11 1L8.5 8.5l.94-2.06 2.06-.94-2.06-.94L8.5 2.5l-.94 2.06-2.06.94zm10 10l.94 2.06.94-2.06 2.06-.94-2.06-.94-.94-2.06-.94 2.06-2.06.94z\"/><path d=\"M17.41 7.96l-1.37-1.37c-.4-.4-.92-.59-1.43-.59-.52 0-1.04.2-1.43.59L10.3 9.45l-7.72 7.72c-.78.78-.78 2.05 0 2.83L4 21.41c.39.39.9.59 1.41.59.51 0 1.02-.2 1.41-.59l7.78-7.78 2.81-2.81c.8-.78.8-2.07 0-2.86zM5.41 20L4 18.59l7.72-7.72 1.47 1.35L5.41 20z\"/>\n",
              "  </svg>\n",
              "      </button>\n",
              "      \n",
              "  <style>\n",
              "    .colab-df-container {\n",
              "      display:flex;\n",
              "      flex-wrap:wrap;\n",
              "      gap: 12px;\n",
              "    }\n",
              "\n",
              "    .colab-df-convert {\n",
              "      background-color: #E8F0FE;\n",
              "      border: none;\n",
              "      border-radius: 50%;\n",
              "      cursor: pointer;\n",
              "      display: none;\n",
              "      fill: #1967D2;\n",
              "      height: 32px;\n",
              "      padding: 0 0 0 0;\n",
              "      width: 32px;\n",
              "    }\n",
              "\n",
              "    .colab-df-convert:hover {\n",
              "      background-color: #E2EBFA;\n",
              "      box-shadow: 0px 1px 2px rgba(60, 64, 67, 0.3), 0px 1px 3px 1px rgba(60, 64, 67, 0.15);\n",
              "      fill: #174EA6;\n",
              "    }\n",
              "\n",
              "    [theme=dark] .colab-df-convert {\n",
              "      background-color: #3B4455;\n",
              "      fill: #D2E3FC;\n",
              "    }\n",
              "\n",
              "    [theme=dark] .colab-df-convert:hover {\n",
              "      background-color: #434B5C;\n",
              "      box-shadow: 0px 1px 3px 1px rgba(0, 0, 0, 0.15);\n",
              "      filter: drop-shadow(0px 1px 2px rgba(0, 0, 0, 0.3));\n",
              "      fill: #FFFFFF;\n",
              "    }\n",
              "  </style>\n",
              "\n",
              "      <script>\n",
              "        const buttonEl =\n",
              "          document.querySelector('#df-826cf53d-809a-43f6-864c-ade1e40ff8cc button.colab-df-convert');\n",
              "        buttonEl.style.display =\n",
              "          google.colab.kernel.accessAllowed ? 'block' : 'none';\n",
              "\n",
              "        async function convertToInteractive(key) {\n",
              "          const element = document.querySelector('#df-826cf53d-809a-43f6-864c-ade1e40ff8cc');\n",
              "          const dataTable =\n",
              "            await google.colab.kernel.invokeFunction('convertToInteractive',\n",
              "                                                     [key], {});\n",
              "          if (!dataTable) return;\n",
              "\n",
              "          const docLinkHtml = 'Like what you see? Visit the ' +\n",
              "            '<a target=\"_blank\" href=https://colab.research.google.com/notebooks/data_table.ipynb>data table notebook</a>'\n",
              "            + ' to learn more about interactive tables.';\n",
              "          element.innerHTML = '';\n",
              "          dataTable['output_type'] = 'display_data';\n",
              "          await google.colab.output.renderOutput(dataTable, element);\n",
              "          const docLink = document.createElement('div');\n",
              "          docLink.innerHTML = docLinkHtml;\n",
              "          element.appendChild(docLink);\n",
              "        }\n",
              "      </script>\n",
              "    </div>\n",
              "  </div>\n",
              "  "
            ],
            "text/plain": [
              "       PassengerId    Survived      Pclass         Age       SibSp  \\\n",
              "count   891.000000  891.000000  891.000000  714.000000  891.000000   \n",
              "mean    446.000000    0.383838    2.308642   29.699118    0.523008   \n",
              "std     257.353842    0.486592    0.836071   14.526497    1.102743   \n",
              "min       1.000000    0.000000    1.000000    0.420000    0.000000   \n",
              "25%     223.500000    0.000000    2.000000   20.125000    0.000000   \n",
              "50%     446.000000    0.000000    3.000000   28.000000    0.000000   \n",
              "75%     668.500000    1.000000    3.000000   38.000000    1.000000   \n",
              "max     891.000000    1.000000    3.000000   80.000000    8.000000   \n",
              "\n",
              "            Parch        Fare  \n",
              "count  891.000000  891.000000  \n",
              "mean     0.381594   32.204208  \n",
              "std      0.806057   49.693429  \n",
              "min      0.000000    0.000000  \n",
              "25%      0.000000    7.910400  \n",
              "50%      0.000000   14.454200  \n",
              "75%      0.000000   31.000000  \n",
              "max      6.000000  512.329200  "
            ]
          },
          "execution_count": 8,
          "metadata": {},
          "output_type": "execute_result"
        }
      ],
      "source": [
        "data.describe() # Used to get the Average Age i.e. 28.000000"
      ]
    },
    {
      "cell_type": "code",
      "execution_count": 9,
      "metadata": {
        "colab": {
          "base_uri": "https://localhost:8080/"
        },
        "id": "mOLfiY2TzGrq",
        "outputId": "ea5686ca-0a40-41ec-ae00-388ef39edd85"
      },
      "outputs": [
        {
          "name": "stdout",
          "output_type": "stream",
          "text": [
            "{'B96 B98': 4, 'G6': 4, 'C23 C25 C27': 4, 'C22 C26': 3, 'F33': 3, 'F2': 3, 'E101': 3, 'D': 3, 'C78': 2, 'C93': 2, 'E8': 2, 'D36': 2, 'B77': 2, 'C123': 2, 'E121': 2, 'E44': 2, 'D35': 2, 'C125': 2, 'E67': 2, 'B35': 2, 'B18': 2, 'E24': 2, 'B49': 2, 'C65': 2, 'B20': 2, 'B5': 2, 'B57 B59 B63 B66': 2, 'C126': 2, 'B51 B53 B55': 2, 'F4': 2, 'C124': 2, 'F G73': 2, 'B58 B60': 2, 'C52': 2, 'D33': 2, 'C68': 2, 'D20': 2, 'D26': 2, 'B28': 2, 'C83': 2, 'E25': 2, 'D17': 2, 'B22': 2, 'C92': 2, 'C2': 2, 'E33': 2, 'C70': 1, 'E58': 1, 'A16': 1, 'C86': 1, 'D19': 1, 'D48': 1, 'A26': 1, 'B50': 1, 'A20': 1, 'C101': 1, 'A10': 1, 'A23': 1, 'E68': 1, 'D9': 1, 'B41': 1, 'D50': 1, 'C85': 1, 'B71': 1, 'D49': 1, 'B42': 1, 'C50': 1, 'A24': 1, 'E17': 1, 'D28': 1, 'C47': 1, 'E49': 1, 'B69': 1, 'B102': 1, 'A36': 1, 'B82 B84': 1, 'D6': 1, 'B3': 1, 'F38': 1, 'E77': 1, 'D11': 1, 'D30': 1, 'C46': 1, 'D45': 1, 'B101': 1, 'B38': 1, 'C45': 1, 'C90': 1, 'C62 C64': 1, 'F G63': 1, 'B39': 1, 'E10': 1, 'C95': 1, 'B86': 1, 'C99': 1, 'B94': 1, 'C87': 1, 'D15': 1, 'A31': 1, 'B80': 1, 'B4': 1, 'A32': 1, 'C49': 1, 'A7': 1, 'B19': 1, 'D47': 1, 'D7': 1, 'F E69': 1, 'C110': 1, 'D10 D12': 1, 'A5': 1, 'E31': 1, 'B30': 1, 'B78': 1, 'A6': 1, 'D56': 1, 'C103': 1, 'E46': 1, 'C118': 1, 'A19': 1, 'B73': 1, 'A34': 1, 'D46': 1, 'B79': 1, 'C30': 1, 'B37': 1, 'A14': 1, 'E63': 1, 'E12': 1, 'D21': 1, 'E38': 1, 'C111': 1, 'C104': 1, 'C82': 1, 'C106': 1, 'E50': 1, 'D37': 1, 'C128': 1, 'T': 1, 'E40': 1, 'C91': 1, 'C32': 1, 'E34': 1, 'C7': 1, 'C54': 1, 'E36': 1, 'C148': 1}\n",
            "--------------------------------------------\n",
            "{'S': 644, 'C': 168, 'Q': 77}\n"
          ]
        }
      ],
      "source": [
        "print(dict(data['Cabin'].value_counts()))\n",
        "print('--------------------------------------------')\n",
        "print(dict(data['Embarked'].value_counts()))"
      ]
    },
    {
      "cell_type": "code",
      "execution_count": 10,
      "metadata": {
        "colab": {
          "base_uri": "https://localhost:8080/"
        },
        "id": "woLT93xecbas",
        "outputId": "20788f17-b4ad-43dd-c13c-feaf2f211d20"
      },
      "outputs": [
        {
          "name": "stdout",
          "output_type": "stream",
          "text": [
            "Before Removing Null values:\n",
            "\n",
            "PassengerId      0\n",
            "Survived         0\n",
            "Pclass           0\n",
            "Name             0\n",
            "Sex              0\n",
            "Age            177\n",
            "SibSp            0\n",
            "Parch            0\n",
            "Ticket           0\n",
            "Fare             0\n",
            "Cabin          687\n",
            "Embarked         2\n",
            "dtype: int64\n",
            "\n",
            " Dimentions of Dataframe Before:  (891, 12) \n",
            "\n",
            "----------------------------------------------------\n",
            "After Removing Null values:\n",
            "\n",
            "PassengerId    0\n",
            "Survived       0\n",
            "Pclass         0\n",
            "Name           0\n",
            "Sex            0\n",
            "Age            0\n",
            "SibSp          0\n",
            "Parch          0\n",
            "Ticket         0\n",
            "Fare           0\n",
            "Cabin          0\n",
            "Embarked       0\n",
            "dtype: int64\n",
            "\n",
            " Dimentions of Dataframe After:  (891, 12) \n",
            "\n"
          ]
        }
      ],
      "source": [
        "print('Before Removing Null values:'+'\\n')\n",
        "print(data.isnull().sum()) # for getting total number of null values\n",
        "print('\\n','Dimentions of Dataframe Before: ',data.shape,'\\n')\n",
        "print('----------------------------------------------------')\n",
        "# data = data.dropna()                                        # dropna() is for Removing Null/Missing Values\n",
        "data = data.fillna({'Age':28, 'Cabin':'G6', 'Embarked':'S'})  # fillna() is for Replacing Null/Missing Values with Another Value\n",
        "print('After Removing Null values:' + '\\n')\n",
        "print(data.isnull().sum())\n",
        "print('\\n','Dimentions of Dataframe After: ',data.shape,'\\n')"
      ]
    },
    {
      "cell_type": "markdown",
      "metadata": {
        "id": "DvdURX4vPzam"
      },
      "source": [
        "---\n",
        "### 2. Identifying the Outliers\n",
        "\n",
        "An Outlier is a value that is very distant as compared to the majority of the other values. It can simply be called as 'Odd One Out value'. There are usually very few Outliers in a Dataset\n",
        "\n",
        "Our goal here is to replace as many the Outliers/Outlying values as possible in the Dataset with the Median/Average Values\n",
        "\n",
        "This is Done by using the 1st Quartile, 3rd Quartile and Inter Quartile Range to return the Boolean values for all the Dataset values.\n",
        "\n",
        "The values which are <b>True</b> in the Dataset are the Outliers"
      ]
    },
    {
      "cell_type": "code",
      "execution_count": 11,
      "metadata": {
        "colab": {
          "base_uri": "https://localhost:8080/",
          "height": 982
        },
        "id": "hwjUZJUJUeUA",
        "outputId": "98d7d80d-af88-42e3-e5fa-73a26776b9e0"
      },
      "outputs": [
        {
          "name": "stdout",
          "output_type": "stream",
          "text": [
            "       Age  Cabin  Embarked   Fare   Name  Parch  PassengerId  Pclass    Sex  \\\n",
            "0    False  False     False  False  False  False        False   False  False   \n",
            "1    False  False     False  False  False  False        False   False  False   \n",
            "2    False  False     False  False  False  False        False   False  False   \n",
            "3    False  False     False  False  False  False        False   False  False   \n",
            "4    False  False     False  False  False  False        False   False  False   \n",
            "..     ...    ...       ...    ...    ...    ...          ...     ...    ...   \n",
            "886  False  False     False  False  False  False        False   False  False   \n",
            "887  False  False     False  False  False  False        False   False  False   \n",
            "888  False  False     False  False  False  False        False   False  False   \n",
            "889  False  False     False  False  False  False        False   False  False   \n",
            "890  False  False     False  False  False  False        False   False  False   \n",
            "\n",
            "     SibSp  Survived  Ticket  \n",
            "0    False     False   False  \n",
            "1    False     False   False  \n",
            "2    False     False   False  \n",
            "3    False     False   False  \n",
            "4    False     False   False  \n",
            "..     ...       ...     ...  \n",
            "886  False     False   False  \n",
            "887  False     False   False  \n",
            "888  False     False   False  \n",
            "889  False     False   False  \n",
            "890  False     False   False  \n",
            "\n",
            "[891 rows x 12 columns]\n"
          ]
        },
        {
          "name": "stderr",
          "output_type": "stream",
          "text": [
            "/usr/local/lib/python3.7/dist-packages/ipykernel_launcher.py:4: FutureWarning: Automatic reindexing on DataFrame vs Series comparisons is deprecated and will raise ValueError in a future version.  Do `left, right = left.align(right, axis=1, copy=False)` before e.g. `left == right`\n",
            "  after removing the cwd from sys.path.\n",
            "/usr/local/lib/python3.7/dist-packages/ipykernel_launcher.py:4: FutureWarning: Automatic reindexing on DataFrame vs Series comparisons is deprecated and will raise ValueError in a future version.  Do `left, right = left.align(right, axis=1, copy=False)` before e.g. `left == right`\n",
            "  after removing the cwd from sys.path.\n"
          ]
        },
        {
          "data": {
            "text/html": [
              "\n",
              "  <div id=\"df-23eeefc7-99de-4c0b-b1fa-99ae1f9626fb\">\n",
              "    <div class=\"colab-df-container\">\n",
              "      <div>\n",
              "<style scoped>\n",
              "    .dataframe tbody tr th:only-of-type {\n",
              "        vertical-align: middle;\n",
              "    }\n",
              "\n",
              "    .dataframe tbody tr th {\n",
              "        vertical-align: top;\n",
              "    }\n",
              "\n",
              "    .dataframe thead th {\n",
              "        text-align: right;\n",
              "    }\n",
              "</style>\n",
              "<table border=\"1\" class=\"dataframe\">\n",
              "  <thead>\n",
              "    <tr style=\"text-align: right;\">\n",
              "      <th></th>\n",
              "      <th>Age</th>\n",
              "      <th>Cabin</th>\n",
              "      <th>Embarked</th>\n",
              "      <th>Fare</th>\n",
              "      <th>Name</th>\n",
              "      <th>Parch</th>\n",
              "      <th>PassengerId</th>\n",
              "      <th>Pclass</th>\n",
              "      <th>Sex</th>\n",
              "      <th>SibSp</th>\n",
              "      <th>Survived</th>\n",
              "      <th>Ticket</th>\n",
              "    </tr>\n",
              "  </thead>\n",
              "  <tbody>\n",
              "    <tr>\n",
              "      <th>0</th>\n",
              "      <td>False</td>\n",
              "      <td>False</td>\n",
              "      <td>False</td>\n",
              "      <td>False</td>\n",
              "      <td>False</td>\n",
              "      <td>False</td>\n",
              "      <td>False</td>\n",
              "      <td>False</td>\n",
              "      <td>False</td>\n",
              "      <td>False</td>\n",
              "      <td>False</td>\n",
              "      <td>False</td>\n",
              "    </tr>\n",
              "    <tr>\n",
              "      <th>1</th>\n",
              "      <td>False</td>\n",
              "      <td>False</td>\n",
              "      <td>False</td>\n",
              "      <td>True</td>\n",
              "      <td>False</td>\n",
              "      <td>False</td>\n",
              "      <td>False</td>\n",
              "      <td>False</td>\n",
              "      <td>False</td>\n",
              "      <td>False</td>\n",
              "      <td>False</td>\n",
              "      <td>False</td>\n",
              "    </tr>\n",
              "    <tr>\n",
              "      <th>2</th>\n",
              "      <td>False</td>\n",
              "      <td>False</td>\n",
              "      <td>False</td>\n",
              "      <td>False</td>\n",
              "      <td>False</td>\n",
              "      <td>False</td>\n",
              "      <td>False</td>\n",
              "      <td>False</td>\n",
              "      <td>False</td>\n",
              "      <td>False</td>\n",
              "      <td>False</td>\n",
              "      <td>False</td>\n",
              "    </tr>\n",
              "    <tr>\n",
              "      <th>3</th>\n",
              "      <td>False</td>\n",
              "      <td>False</td>\n",
              "      <td>False</td>\n",
              "      <td>False</td>\n",
              "      <td>False</td>\n",
              "      <td>False</td>\n",
              "      <td>False</td>\n",
              "      <td>False</td>\n",
              "      <td>False</td>\n",
              "      <td>False</td>\n",
              "      <td>False</td>\n",
              "      <td>False</td>\n",
              "    </tr>\n",
              "    <tr>\n",
              "      <th>4</th>\n",
              "      <td>False</td>\n",
              "      <td>False</td>\n",
              "      <td>False</td>\n",
              "      <td>False</td>\n",
              "      <td>False</td>\n",
              "      <td>False</td>\n",
              "      <td>False</td>\n",
              "      <td>False</td>\n",
              "      <td>False</td>\n",
              "      <td>False</td>\n",
              "      <td>False</td>\n",
              "      <td>False</td>\n",
              "    </tr>\n",
              "    <tr>\n",
              "      <th>...</th>\n",
              "      <td>...</td>\n",
              "      <td>...</td>\n",
              "      <td>...</td>\n",
              "      <td>...</td>\n",
              "      <td>...</td>\n",
              "      <td>...</td>\n",
              "      <td>...</td>\n",
              "      <td>...</td>\n",
              "      <td>...</td>\n",
              "      <td>...</td>\n",
              "      <td>...</td>\n",
              "      <td>...</td>\n",
              "    </tr>\n",
              "    <tr>\n",
              "      <th>886</th>\n",
              "      <td>False</td>\n",
              "      <td>False</td>\n",
              "      <td>False</td>\n",
              "      <td>False</td>\n",
              "      <td>False</td>\n",
              "      <td>False</td>\n",
              "      <td>False</td>\n",
              "      <td>False</td>\n",
              "      <td>False</td>\n",
              "      <td>False</td>\n",
              "      <td>False</td>\n",
              "      <td>False</td>\n",
              "    </tr>\n",
              "    <tr>\n",
              "      <th>887</th>\n",
              "      <td>False</td>\n",
              "      <td>False</td>\n",
              "      <td>False</td>\n",
              "      <td>False</td>\n",
              "      <td>False</td>\n",
              "      <td>False</td>\n",
              "      <td>False</td>\n",
              "      <td>False</td>\n",
              "      <td>False</td>\n",
              "      <td>False</td>\n",
              "      <td>False</td>\n",
              "      <td>False</td>\n",
              "    </tr>\n",
              "    <tr>\n",
              "      <th>888</th>\n",
              "      <td>False</td>\n",
              "      <td>False</td>\n",
              "      <td>False</td>\n",
              "      <td>False</td>\n",
              "      <td>False</td>\n",
              "      <td>True</td>\n",
              "      <td>False</td>\n",
              "      <td>False</td>\n",
              "      <td>False</td>\n",
              "      <td>False</td>\n",
              "      <td>False</td>\n",
              "      <td>False</td>\n",
              "    </tr>\n",
              "    <tr>\n",
              "      <th>889</th>\n",
              "      <td>False</td>\n",
              "      <td>False</td>\n",
              "      <td>False</td>\n",
              "      <td>False</td>\n",
              "      <td>False</td>\n",
              "      <td>False</td>\n",
              "      <td>False</td>\n",
              "      <td>False</td>\n",
              "      <td>False</td>\n",
              "      <td>False</td>\n",
              "      <td>False</td>\n",
              "      <td>False</td>\n",
              "    </tr>\n",
              "    <tr>\n",
              "      <th>890</th>\n",
              "      <td>False</td>\n",
              "      <td>False</td>\n",
              "      <td>False</td>\n",
              "      <td>False</td>\n",
              "      <td>False</td>\n",
              "      <td>False</td>\n",
              "      <td>False</td>\n",
              "      <td>False</td>\n",
              "      <td>False</td>\n",
              "      <td>False</td>\n",
              "      <td>False</td>\n",
              "      <td>False</td>\n",
              "    </tr>\n",
              "  </tbody>\n",
              "</table>\n",
              "<p>891 rows × 12 columns</p>\n",
              "</div>\n",
              "      <button class=\"colab-df-convert\" onclick=\"convertToInteractive('df-23eeefc7-99de-4c0b-b1fa-99ae1f9626fb')\"\n",
              "              title=\"Convert this dataframe to an interactive table.\"\n",
              "              style=\"display:none;\">\n",
              "        \n",
              "  <svg xmlns=\"http://www.w3.org/2000/svg\" height=\"24px\"viewBox=\"0 0 24 24\"\n",
              "       width=\"24px\">\n",
              "    <path d=\"M0 0h24v24H0V0z\" fill=\"none\"/>\n",
              "    <path d=\"M18.56 5.44l.94 2.06.94-2.06 2.06-.94-2.06-.94-.94-2.06-.94 2.06-2.06.94zm-11 1L8.5 8.5l.94-2.06 2.06-.94-2.06-.94L8.5 2.5l-.94 2.06-2.06.94zm10 10l.94 2.06.94-2.06 2.06-.94-2.06-.94-.94-2.06-.94 2.06-2.06.94z\"/><path d=\"M17.41 7.96l-1.37-1.37c-.4-.4-.92-.59-1.43-.59-.52 0-1.04.2-1.43.59L10.3 9.45l-7.72 7.72c-.78.78-.78 2.05 0 2.83L4 21.41c.39.39.9.59 1.41.59.51 0 1.02-.2 1.41-.59l7.78-7.78 2.81-2.81c.8-.78.8-2.07 0-2.86zM5.41 20L4 18.59l7.72-7.72 1.47 1.35L5.41 20z\"/>\n",
              "  </svg>\n",
              "      </button>\n",
              "      \n",
              "  <style>\n",
              "    .colab-df-container {\n",
              "      display:flex;\n",
              "      flex-wrap:wrap;\n",
              "      gap: 12px;\n",
              "    }\n",
              "\n",
              "    .colab-df-convert {\n",
              "      background-color: #E8F0FE;\n",
              "      border: none;\n",
              "      border-radius: 50%;\n",
              "      cursor: pointer;\n",
              "      display: none;\n",
              "      fill: #1967D2;\n",
              "      height: 32px;\n",
              "      padding: 0 0 0 0;\n",
              "      width: 32px;\n",
              "    }\n",
              "\n",
              "    .colab-df-convert:hover {\n",
              "      background-color: #E2EBFA;\n",
              "      box-shadow: 0px 1px 2px rgba(60, 64, 67, 0.3), 0px 1px 3px 1px rgba(60, 64, 67, 0.15);\n",
              "      fill: #174EA6;\n",
              "    }\n",
              "\n",
              "    [theme=dark] .colab-df-convert {\n",
              "      background-color: #3B4455;\n",
              "      fill: #D2E3FC;\n",
              "    }\n",
              "\n",
              "    [theme=dark] .colab-df-convert:hover {\n",
              "      background-color: #434B5C;\n",
              "      box-shadow: 0px 1px 3px 1px rgba(0, 0, 0, 0.15);\n",
              "      filter: drop-shadow(0px 1px 2px rgba(0, 0, 0, 0.3));\n",
              "      fill: #FFFFFF;\n",
              "    }\n",
              "  </style>\n",
              "\n",
              "      <script>\n",
              "        const buttonEl =\n",
              "          document.querySelector('#df-23eeefc7-99de-4c0b-b1fa-99ae1f9626fb button.colab-df-convert');\n",
              "        buttonEl.style.display =\n",
              "          google.colab.kernel.accessAllowed ? 'block' : 'none';\n",
              "\n",
              "        async function convertToInteractive(key) {\n",
              "          const element = document.querySelector('#df-23eeefc7-99de-4c0b-b1fa-99ae1f9626fb');\n",
              "          const dataTable =\n",
              "            await google.colab.kernel.invokeFunction('convertToInteractive',\n",
              "                                                     [key], {});\n",
              "          if (!dataTable) return;\n",
              "\n",
              "          const docLinkHtml = 'Like what you see? Visit the ' +\n",
              "            '<a target=\"_blank\" href=https://colab.research.google.com/notebooks/data_table.ipynb>data table notebook</a>'\n",
              "            + ' to learn more about interactive tables.';\n",
              "          element.innerHTML = '';\n",
              "          dataTable['output_type'] = 'display_data';\n",
              "          await google.colab.output.renderOutput(dataTable, element);\n",
              "          const docLink = document.createElement('div');\n",
              "          docLink.innerHTML = docLinkHtml;\n",
              "          element.appendChild(docLink);\n",
              "        }\n",
              "      </script>\n",
              "    </div>\n",
              "  </div>\n",
              "  "
            ],
            "text/plain": [
              "       Age  Cabin  Embarked   Fare   Name  Parch  PassengerId  Pclass    Sex  \\\n",
              "0    False  False     False  False  False  False        False   False  False   \n",
              "1    False  False     False   True  False  False        False   False  False   \n",
              "2    False  False     False  False  False  False        False   False  False   \n",
              "3    False  False     False  False  False  False        False   False  False   \n",
              "4    False  False     False  False  False  False        False   False  False   \n",
              "..     ...    ...       ...    ...    ...    ...          ...     ...    ...   \n",
              "886  False  False     False  False  False  False        False   False  False   \n",
              "887  False  False     False  False  False  False        False   False  False   \n",
              "888  False  False     False  False  False   True        False   False  False   \n",
              "889  False  False     False  False  False  False        False   False  False   \n",
              "890  False  False     False  False  False  False        False   False  False   \n",
              "\n",
              "     SibSp  Survived  Ticket  \n",
              "0    False     False   False  \n",
              "1    False     False   False  \n",
              "2    False     False   False  \n",
              "3    False     False   False  \n",
              "4    False     False   False  \n",
              "..     ...       ...     ...  \n",
              "886  False     False   False  \n",
              "887  False     False   False  \n",
              "888  False     False   False  \n",
              "889  False     False   False  \n",
              "890  False     False   False  \n",
              "\n",
              "[891 rows x 12 columns]"
            ]
          },
          "execution_count": 11,
          "metadata": {},
          "output_type": "execute_result"
        }
      ],
      "source": [
        "Q1 = data.quantile(0.25) # First Quartile of the Data\n",
        "Q3 = data.quantile(0.75) # Third Quartile of the Data\n",
        "IQR = Q3 - Q1            # Inter Quartile Range\n",
        "print(data < (Q1 - 1.5 * IQR)) or (data > (Q3 + 1.5 * IQR)) # Printing values that satisfy Both Conditions"
      ]
    },
    {
      "cell_type": "code",
      "execution_count": 12,
      "metadata": {
        "colab": {
          "base_uri": "https://localhost:8080/"
        },
        "id": "PbxPtiFDWGxA",
        "outputId": "3da6135d-f23e-473b-a2c2-438143799ddf"
      },
      "outputs": [
        {
          "name": "stdout",
          "output_type": "stream",
          "text": [
            "28.0\n",
            "54.0\n",
            "35.0\n"
          ]
        }
      ],
      "source": [
        "print(data['Age'].quantile(0.5)) # Average age value\n",
        "print(data['Age'].quantile(0.95)) # Outlying age value\n",
        "print(data['Age'].quantile(0.75)) # Age value to replace the Outlying values"
      ]
    },
    {
      "cell_type": "code",
      "execution_count": 13,
      "metadata": {
        "colab": {
          "base_uri": "https://localhost:8080/"
        },
        "id": "pfyWfejiLlnM",
        "outputId": "d8c3f40e-fc5f-4892-ee15-3a2449652ad3"
      },
      "outputs": [
        {
          "name": "stdout",
          "output_type": "stream",
          "text": [
            "count    891.000000\n",
            "mean      28.891886\n",
            "std       11.965069\n",
            "min        0.420000\n",
            "25%       22.000000\n",
            "50%       28.000000\n",
            "75%       35.000000\n",
            "max       60.000000\n",
            "Name: Age, dtype: float64\n"
          ]
        }
      ],
      "source": [
        "data['Age'] = np.where(data['Age'] > 60.0, 47.0, data['Age']) \n",
        "# Where there is an Age value greater than 60, replace it with 47\n",
        "print(data['Age'].describe()) \n",
        "# Here we can observe that the Maximum age in the ship is fixed to be 60"
      ]
    },
    {
      "cell_type": "markdown",
      "metadata": {
        "id": "0spYm9wnNzJZ"
      },
      "source": [
        "We need to repeat the same process for all the other columns of the Dataset so that all the Outliers in the Dataset can be Replaced."
      ]
    }
  ],
  "metadata": {
    "colab": {
      "collapsed_sections": [],
      "name": "Data_Cleaning_Null.ipynb",
      "provenance": []
    },
    "kernelspec": {
      "display_name": "Python 3",
      "name": "python3"
    },
    "language_info": {
      "name": "python"
    }
  },
  "nbformat": 4,
  "nbformat_minor": 0
}
